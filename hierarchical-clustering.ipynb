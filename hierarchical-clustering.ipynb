{
 "cells": [
  {
   "cell_type": "markdown",
   "metadata": {},
   "source": [
    "# Hierarchical Clustering Panel of Economists\n",
    "## Author: Oliver Gladfelter"
   ]
  },
  {
   "cell_type": "code",
   "execution_count": 1,
   "metadata": {},
   "outputs": [],
   "source": [
    "import pandas as pd\n",
    "import numpy as np\n",
    "import matplotlib.pyplot as plt\n",
    "%matplotlib inline\n",
    "from sklearn.cluster import AgglomerativeClustering\n",
    "from sklearn.preprocessing import normalize"
   ]
  },
  {
   "cell_type": "code",
   "execution_count": 4,
   "metadata": {},
   "outputs": [],
   "source": [
    "data = pd.read_csv(\"output-data/answersAsColumns.csv\")\n",
    "\n",
    "data = data[data['name']!='Amy Finkelstein'] # too many no opinion / did not answers\n",
    "data = data[data['name']!='Raj Chetty'] # too many no opinion / did not answers\n",
    "data = data.reset_index()\n",
    "del data['index']\n",
    "\n",
    "data = data.replace({'Strongly Agree': 1, 'Agree': 1, 'Uncertain': 2, 'Disagree': 3, 'Strongly Disagree': 3, 'Did Not Answer': 0, 'No Opinion': 4})\n",
    "data = data.fillna(0)\n",
    "\n",
    "data['questions_not_answered'] = (data == 0).astype(int).sum(axis=1) # count number of 0s in rows\n",
    "data = data[data['questions_not_answered']<=52] # remove if there's a lot of missing values\n",
    "\n",
    "data2 = data.iloc[:,1:]"
   ]
  },
  {
   "cell_type": "code",
   "execution_count": 6,
   "metadata": {},
   "outputs": [
    {
     "data": {
      "image/png": "[encoded data removed]",
      "text/plain": [
       "<Figure size 720x504 with 1 Axes>"
      ]
     },
     "metadata": {
      "needs_background": "light"
     },
     "output_type": "display_data"
    }
   ],
   "source": [
    "import scipy.cluster.hierarchy as shc\n",
    "plt.figure(figsize=(10, 7))  \n",
    "plt.title(\"Dendrograms\")  \n",
    "dend = shc.dendrogram(shc.linkage(data2, method='ward'))"
   ]
  },
  {
   "cell_type": "code",
   "execution_count": 8,
   "metadata": {},
   "outputs": [],
   "source": [
    "# compute clusters\n",
    "# number of clusters = 3, as determined using elbow method\n",
    "cluster = AgglomerativeClustering(n_clusters=3, affinity='euclidean', linkage='ward')  \n",
    "clusterArray = cluster.fit_predict(data2)\n",
    "\n",
    "# add cluster assignments to data\n",
    "data['clusterGroups'] = clusterArray\n",
    "\n",
    "data = data.reset_index()\n",
    "del data['index']"
   ]
  },
  {
   "cell_type": "code",
   "execution_count": 154,
   "metadata": {},
   "outputs": [
    {
     "name": "stdout",
     "output_type": "stream",
     "text": [
      "Agree\n",
      "128.33333333333334\n",
      "148.92307692307693\n",
      "146.0\n",
      "\n",
      "Disgree\n",
      "43.333333333333336\n",
      "53.92307692307692\n",
      "56.0\n",
      "\n",
      "Uncertain\n",
      "40.5\n",
      "52.46153846153846\n",
      "43.0\n",
      "\n",
      "No Opinion\n",
      "19.0\n",
      "14.076923076923077\n",
      "10.857142857142858\n",
      "\n",
      "Did not answer\n",
      "18.0\n",
      "18.0\n",
      "18.0\n"
     ]
    }
   ],
   "source": [
    "# validation testing:\n",
    "# number of agrees, disagrees, etc should be even across clusters\n",
    "\n",
    "uncertainList = []\n",
    "agreeList = []\n",
    "disagreeList = []\n",
    "noOpinionList = []\n",
    "didNotAnswerList = []\n",
    "\n",
    "for row in range(0,len(data)):\n",
    "    uncertains = 0\n",
    "    agrees = 0\n",
    "    disagrees = 0\n",
    "    noOpinions = 0\n",
    "    didNotAnswer = 0\n",
    "    \n",
    "    for column in data.columns[1:-2]:\n",
    "        if data[column][row] == 0:\n",
    "            didNotAnswer = didNotAnswer + 1\n",
    "        elif data[column][row] == 4:\n",
    "            noOpinions = noOpinions + 1\n",
    "        elif data[column][row] == 1:\n",
    "            agrees = agrees + 1\n",
    "        elif data[column][row] == 2:\n",
    "            uncertains = uncertains + 1\n",
    "        elif data[column][row] == 3:\n",
    "            disagrees = disagrees + 1\n",
    "            \n",
    "    noOpinionList.append(noOpinions)\n",
    "    uncertainList.append(uncertains)\n",
    "    agreeList.append(agrees)\n",
    "    disagreeList.append(disagrees)\n",
    "    \n",
    "data['agreeCount'] = agreeList\n",
    "data['uncertainCount'] = uncertainList\n",
    "data['disagreeCount'] = disagreeList\n",
    "data['noOpinionCount'] = noOpinionList\n",
    "data['didNotAnswerCount'] = didNotAnswer\n",
    "\n",
    "print(\"Agree\")\n",
    "print(data[data['clusterGroups']==0]['agreeCount'].mean())\n",
    "print(data[data['clusterGroups']==1]['agreeCount'].mean())\n",
    "print(data[data['clusterGroups']==2]['agreeCount'].mean())\n",
    "print(\"\")\n",
    "print(\"Disgree\")\n",
    "print(data[data['clusterGroups']==0]['disagreeCount'].mean())\n",
    "print(data[data['clusterGroups']==1]['disagreeCount'].mean())\n",
    "print(data[data['clusterGroups']==2]['disagreeCount'].mean())\n",
    "print(\"\")\n",
    "print(\"Uncertain\")\n",
    "print(data[data['clusterGroups']==0]['uncertainCount'].mean())\n",
    "print(data[data['clusterGroups']==1]['uncertainCount'].mean())\n",
    "print(data[data['clusterGroups']==2]['uncertainCount'].mean())\n",
    "print(\"\")\n",
    "print(\"No Opinion\")\n",
    "print(data[data['clusterGroups']==0]['noOpinionCount'].mean())\n",
    "print(data[data['clusterGroups']==1]['noOpinionCount'].mean())\n",
    "print(data[data['clusterGroups']==2]['noOpinionCount'].mean())\n",
    "print(\"\")\n",
    "print(\"Did not answer\")\n",
    "print(data[data['clusterGroups']==0]['didNotAnswerCount'].mean())\n",
    "print(data[data['clusterGroups']==1]['didNotAnswerCount'].mean())\n",
    "print(data[data['clusterGroups']==2]['didNotAnswerCount'].mean())"
   ]
  },
  {
   "cell_type": "code",
   "execution_count": 158,
   "metadata": {},
   "outputs": [],
   "source": [
    "del data['didNotAnswerCount']\n",
    "del data['agreeCount']\n",
    "del data['uncertainCount']\n",
    "del data['disagreeCount']\n",
    "del data['noOpinionCount']\n",
    "\n",
    "import os\n",
    "data.to_csv(os.getcwd() + \"\\\\Documents\\\\hierarchyClusteringEconomists.csv\",index=False)"
   ]
  }
 ],
 "metadata": {
  "kernelspec": {
   "display_name": "Python 3",
   "language": "python",
   "name": "python3"
  },
  "language_info": {
   "codemirror_mode": {
    "name": "ipython",
    "version": 3
   },
   "file_extension": ".py",
   "mimetype": "text/x-python",
   "name": "python",
   "nbconvert_exporter": "python",
   "pygments_lexer": "ipython3",
   "version": "3.7.4"
  }
 },
 "nbformat": 4,
 "nbformat_minor": 2
}
